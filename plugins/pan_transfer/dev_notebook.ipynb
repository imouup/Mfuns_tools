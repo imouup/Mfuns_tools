{
 "cells": [
  {
   "cell_type": "code",
   "id": "initial_id",
   "metadata": {
    "collapsed": true,
    "ExecuteTime": {
     "end_time": "2025-01-08T06:13:51.803923Z",
     "start_time": "2025-01-08T06:13:17.070990Z"
    }
   },
   "source": [
    "import time\n",
    "from src.createTab import CreateTab\n",
    "from src.login import login\n",
    "from src.cookies import getCookies, getUserinfo\n",
    "from src.file_store import getPath\n",
    "from DrissionPage import SessionPage\n",
    "from tqdm import tqdm\n",
    "from src.mf_print import mfprint\n",
    "\n",
    "# 创建标签页\n",
    "ini_path = None\n",
    "createtab = CreateTab(ini_path)\n",
    "#createtab.headless()\n",
    "tab = createtab.create()\n",
    "\n",
    "# 登录\n",
    "login(tab)\n",
    "\n",
    "# 获取uid\n",
    "def getUID(tab):\n",
    "    #try:\n",
    "    userinfo=getUserinfo(tab,getPath(['data','userinfo','userinfo.json'],2))\n",
    "    uid = userinfo['user']['id']\n",
    "    print(f'你的UID为{uid}，看看有没有登录错了喵~')\n",
    "    return uid\n",
    " #   except:\n",
    "  #      print('获取UID失败，可能是网络问题，请尝试重新运行程序 ＞︿＜')\n",
    "\n",
    "# 该函数用于判断是否以及到底了~\n",
    "def end():\n",
    "    if bool(tab.ele('没有更多了',timeout=2.5)) == True:\n",
    "        return False\n",
    "    else:\n",
    "        return True\n",
    "\n",
    "\n",
    "# 定义外链视频类\n",
    "class panVideo():\n",
    "    __slots__ = ['mvid','title','pan_url']\n",
    "    def __init__(self,mvid,title):\n",
    "        self.mvid = mvid\n",
    "        self.title = title\n",
    "    def getPan_url(self):\n",
    "        page = SessionPage()   # 在sessionpage中获取视频链接\n",
    "        page.get(f'https://www.mfuns.net/video/{self.mvid}')\n",
    "        self.pan_url = page.ele('@property=og:video').attr('content')\n",
    "    def download(self):\n",
    "        pass\n",
    "    def upload(self):\n",
    "        pass\n",
    "\n",
    "# 定义函数查找mvid\n",
    "def find_mvid(url):\n",
    "    try:\n",
    "        for i in range(len(url)):\n",
    "\n",
    "            if url[i:i+5] == 'video':\n",
    "\n",
    "                return url[i+6:]\n",
    "\n",
    "        return False\n",
    "    except TypeError:\n",
    "        return False\n",
    "\n",
    "# 定义函数判断是否为网盘外链\n",
    "def ispan(pan_url):\n",
    "    if pan_url[8:21] == 'pan.nyaku.moe' or pan_url[8:24] == 'nyapan.mouup.top':\n",
    "        return True\n",
    "    else:\n",
    "        return False\n",
    "\n",
    "# 定义获取视频列表的函数，需要传入已经完成加载的个人中心-视频页(tab)，返回视频对象组成的列表mfv_list\n",
    "def mv_list(tab):\n",
    "    video_list = tab.eles('.m-link notlink')\n",
    "    mfv_list= []\n",
    "\n",
    "    # 进度条\n",
    "    mfprint('开始检索你上传的视频（￣︶￣）↗')\n",
    "    with tqdm(total=len(video_list),ncols=75,colour='#a78bfa') as pbar:\n",
    "        pbar.set_description('【Mftools】Processing')\n",
    "        # 主代码\n",
    "        for i in video_list:\n",
    "            title = i.attr('title')\n",
    "            mvurl = i.link\n",
    "            if bool(find_mvid(mvurl)) == True:\n",
    "                mvid = find_mvid(mvurl)\n",
    "                mfvideo = panVideo(mvid,title)\n",
    "                mfvideo.getPan_url()\n",
    "                mfv_list.append(mfvideo)\n",
    "            time.sleep(0.1)\n",
    "            pbar.update(1)\n",
    "\n",
    "    mfprint('总共检索到{}个视频'.format(len(mfv_list)))\n",
    "    return mfv_list\n",
    "\n",
    "\n",
    "# 定义从视频列表筛选出使用nya盘外链的视频的函数，需要传入用户视频对象列表，返回筛选完成的视频对象列表\n",
    "def pv_list(mfv_list):\n",
    "    panv_list = []\n",
    "    # 进度条\n",
    "    mfprint('开始查找使用nya盘外链的视频~')\n",
    "    with tqdm(total=len(mfv_list),ncols=75,colour='#a78bfa') as pbar:\n",
    "        pbar.set_description('【Mftools】Processing')\n",
    "        for mfvideo in mfv_list:\n",
    "            if ispan(mfvideo.pan_url) == True:\n",
    "                panv_list.append(mfvideo)\n",
    "            time.sleep(0.1)\n",
    "            pbar.update(1)\n",
    "    mfprint('其中有{}个使用Nya盘的视频'.format(len(panv_list)))\n",
    "    return panv_list\n",
    "\n",
    "\n",
    "# 加载视频下载页\n",
    "uid = getUID(tab)\n",
    "tab.get(f'https://www.mfuns.net/member/{uid}/videoList')\n",
    "while end():\n",
    "    tab.actions.scroll(delta_y=23333)\n",
    "\n",
    "# 获取视频列表\n",
    "mfv_list = mv_list(tab)\n",
    "# 筛选出使用nya盘的视频\n",
    "panv_list = pv_list(mfv_list)\n",
    "\n"
   ],
   "outputs": [
    {
     "name": "stdout",
     "output_type": "stream",
     "text": [
      "已经登录了喵~\n",
      "你的UID为6614，看看有没有登录错了喵~\n",
      "【Mftools】开始检索你上传的视频（￣︶￣）↗\n"
     ]
    },
    {
     "name": "stderr",
     "output_type": "stream",
     "text": [
      "【Mftools】Processing: 100%|\u001B[38;2;167;139;250m███████████████\u001B[0m| 66/66 [00:19<00:00,  3.31it/s]\u001B[0m0m\n"
     ]
    },
    {
     "name": "stdout",
     "output_type": "stream",
     "text": [
      "【Mftools】总共检索到47个视频\n",
      "【Mftools】开始查找使用nya盘外链的视频~\n"
     ]
    },
    {
     "name": "stderr",
     "output_type": "stream",
     "text": [
      "【Mftools】Processing: 100%|\u001B[38;2;167;139;250m███████████████\u001B[0m| 47/47 [00:04<00:00,  9.78it/s]\u001B[0m0m"
     ]
    },
    {
     "name": "stdout",
     "output_type": "stream",
     "text": [
      "【Mftools】其中有23个使用Nya盘的视频\n"
     ]
    },
    {
     "name": "stderr",
     "output_type": "stream",
     "text": [
      "\n"
     ]
    }
   ],
   "execution_count": 2
  },
  {
   "metadata": {
    "ExecuteTime": {
     "end_time": "2025-01-08T06:13:52.037021Z",
     "start_time": "2025-01-08T06:13:52.025678Z"
    }
   },
   "cell_type": "code",
   "source": [
    "# 展示筛选出的视频 | 序号 | mv号 | 标题 |\n",
    "mfprint('应该都在下面了喵~')\n",
    "mfprint('|{:^3}|{:^6}| 标题'.format('序号','mv号'))\n",
    "k = 0\n",
    "for video in panv_list:\n",
    "    k += 1\n",
    "    mfprint('{:^6}{:^8}{}'.format(k,video.mvid,video.title))\n",
    "\n",
    "print('-'*50)\n",
    "mfprint('请输入你希望重新上传以转为直链的视频的【序号】或【mv号】')\n",
    "mfprint('你可以：')\n",
    "mfprint('（1）直接回车或输入0，所有视频都会被尝试转直链')\n",
    "mfprint('或者：')\n",
    "mfprint('（2）输入单个序号或mv号[例如：1 或 35124]，只有指定的视频会被转为直链')\n",
    "mfprint('（3）输入多个序号或mv号，用英文逗号分隔[例如：1,2,3,]')\n",
    "mfprint('注意：序号和mv号不能混用，且逗号必须是英文逗号!')\n"
   ],
   "id": "d45c1c7e94f95073",
   "outputs": [
    {
     "name": "stdout",
     "output_type": "stream",
     "text": [
      "【Mftools】应该都在下面了喵~\n",
      "【Mftools】|序号 | mv号  | 标题\n",
      "【Mftools】  1    35154  【搬运】【1080p】魔法未来 Magical Mirai 2021\n",
      "【Mftools】  2    35126  【搬运】【1080p】魔法未来 Magical Mirai 2022\n",
      "【Mftools】  3    34048  【搬运】恶之三部曲   feat.悪ノP，鏡音リン，鏡音レン\n",
      "【Mftools】  4    34045  DECO*27 - ラビットホール feat. 初音ミク\n",
      "【Mftools】  5    29819  明明一动不动但还是好热啊 (quilt heron remix)\n",
      "【Mftools】  6    29319  「碧蓝档案」二周年PV\n",
      "【Mftools】  7    22565  Target of love 【古拉圣诞版】\n",
      "【Mftools】  8    22119  梦想夏乡 4\n",
      "【Mftools】  9    13793  【MCE汉化组】关于邻家的天使大人不知不觉把我惯成了废人这档子事 先导PV\n",
      "【Mftools】  10    7149  【剧场版/1080p】天气之子\n",
      "【Mftools】  11    7139  【电影/BD】帝国的毁灭\n",
      "【Mftools】  12    6899  魔法少女小圆（12）\n",
      "【Mftools】  13    6870  魔法少女小圆（11）\n",
      "【Mftools】  14    6869  魔法少女小圆（10）\n",
      "【Mftools】  15    6868  魔法少女小圆（9）\n",
      "【Mftools】  16    6867  魔法少女小圆（8）\n",
      "【Mftools】  17    6866  魔法少女小圆（7）\n",
      "【Mftools】  18    6865  魔法少女小圆（6）\n",
      "【Mftools】  19    6863  魔法少女小圆（5）\n",
      "【Mftools】  20    6862  魔法少女小圆（4）\n",
      "【Mftools】  21    6861  魔法少女小圆（3）\n",
      "【Mftools】  22    6860  魔法少女小圆（2）\n",
      "【Mftools】  23    6859  魔法少女小圆（1）\n",
      "--------------------------------------------------\n",
      "【Mftools】请输入你希望重新上传以转为直链的视频的【序号】或【mv号】\n",
      "【Mftools】你可以：\n",
      "【Mftools】（1）直接回车或输入0，所有视频都会被尝试转直链\n",
      "【Mftools】或者：\n",
      "【Mftools】（2）输入单个序号或mv号[例如：1 或 35124]，只有指定的视频会被转为直链\n",
      "【Mftools】（3）输入多个序号或mv号，用英文逗号分隔[例如：1,2,3,]\n",
      "【Mftools】注意：序号和mv号不能混用，且逗号必须是英文逗号!\n"
     ]
    }
   ],
   "execution_count": 3
  }
 ],
 "metadata": {
  "kernelspec": {
   "display_name": "Python 3",
   "language": "python",
   "name": "python3"
  },
  "language_info": {
   "codemirror_mode": {
    "name": "ipython",
    "version": 2
   },
   "file_extension": ".py",
   "mimetype": "text/x-python",
   "name": "python",
   "nbconvert_exporter": "python",
   "pygments_lexer": "ipython2",
   "version": "2.7.6"
  }
 },
 "nbformat": 4,
 "nbformat_minor": 5
}
